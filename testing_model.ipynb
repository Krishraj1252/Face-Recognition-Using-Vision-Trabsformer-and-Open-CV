{
 "cells": [
  {
   "cell_type": "code",
   "execution_count": 8,
   "metadata": {},
   "outputs": [
    {
     "name": "stdout",
     "output_type": "stream",
     "text": [
      "Accuracy: 0.9230769230769231\n"
     ]
    }
   ],
   "source": [
    "import cv2\n",
    "import os\n",
    "import numpy as np\n",
    "\n",
    "# Load the pre-trained LBPH face recognizer\n",
    "recognizer = cv2.face.LBPHFaceRecognizer_create()\n",
    "recognizer.read('recognizer/TrainingData.yml')\n",
    "\n",
    "# Load the test images and their labels\n",
    "test_dir = 'test_images'\n",
    "test_images = []\n",
    "test_labels = []\n",
    "for subdir in os.listdir(test_dir):\n",
    "    for file in os.listdir(os.path.join(test_dir, subdir)):\n",
    "        image = cv2.imread(os.path.join(test_dir, subdir, file), cv2.IMREAD_GRAYSCALE)\n",
    "        test_images.append(image)\n",
    "        test_labels.append(int(subdir))\n",
    "\n",
    "# Predict the labels for the test images using the LBPH recognizer\n",
    "predictions = []\n",
    "for image in test_images:\n",
    "    label, confidence = recognizer.predict(image)\n",
    "    predictions.append(label)\n",
    "\n",
    "# Calculate the accuracy of the predictions\n",
    "num_correct = np.sum(np.array(predictions) == np.array(test_labels))\n",
    "accuracy = num_correct / len(test_labels)\n",
    "\n",
    "print('Accuracy:', accuracy)"
   ]
  },
  {
   "cell_type": "code",
   "execution_count": null,
   "metadata": {},
   "outputs": [],
   "source": []
  }
 ],
 "metadata": {
  "kernelspec": {
   "display_name": "Python 3",
   "language": "python",
   "name": "python3"
  },
  "language_info": {
   "codemirror_mode": {
    "name": "ipython",
    "version": 3
   },
   "file_extension": ".py",
   "mimetype": "text/x-python",
   "name": "python",
   "nbconvert_exporter": "python",
   "pygments_lexer": "ipython3",
   "version": "3.6.7"
  }
 },
 "nbformat": 4,
 "nbformat_minor": 4
}
