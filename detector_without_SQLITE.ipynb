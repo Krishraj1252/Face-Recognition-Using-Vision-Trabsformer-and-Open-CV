{
 "cells": [
  {
   "cell_type": "code",
   "execution_count": 1,
   "metadata": {},
   "outputs": [],
   "source": [
    "import cv2\n",
    "import numpy as np\n",
    "\n",
    "\n",
    "faceDetect=cv2.CascadeClassifier(\"D:/python3.6/IMAGE_PROCESSING/haarcascades/haarcascade_frontalface_default.xml\")\n",
    "cam=cv2.VideoCapture(0)\n",
    "rec=cv2.face.LBPHFaceRecognizer_create()\n",
    "rec.read(\"recognizer/TrainingData.yml\")\n",
    "id=0\n",
    "font=cv2.FONT_HERSHEY_COMPLEX\n",
    "while (True):\n",
    "    ret,img = cam.read()\n",
    "    gray=cv2.cvtColor(img,cv2.COLOR_BGR2GRAY)\n",
    "    faces=faceDetect.detectMultiScale(gray,1.3,5)\n",
    "    for (x,y,w,h) in faces:\n",
    "        cv2.rectangle(img,(x,y),(x+w,y+h),(255,0,0),2)\n",
    "        id,conf=rec.predict(gray[y:y+h,x:x+w])\n",
    "        if id==1:\n",
    "            id=\"virat\"\n",
    "        if id==2:\n",
    "            id='krish'\n",
    "         \n",
    "        cv2.putText(img,str(id),(x,y+h),font,.6,(0,0,255),1)\n",
    "        \n",
    "    cv2.imshow(\"Face\",img)\n",
    "    key=cv2.waitKey(1)\n",
    "    if key==27:\n",
    "        \n",
    "        break\n",
    "cam.release()\n",
    "cv2.destroyAllWindows()\n",
    "\n",
    "        "
   ]
  },
  {
   "cell_type": "code",
   "execution_count": null,
   "metadata": {},
   "outputs": [],
   "source": []
  }
 ],
 "metadata": {
  "kernelspec": {
   "display_name": "Python 3",
   "language": "python",
   "name": "python3"
  },
  "language_info": {
   "codemirror_mode": {
    "name": "ipython",
    "version": 3
   },
   "file_extension": ".py",
   "mimetype": "text/x-python",
   "name": "python",
   "nbconvert_exporter": "python",
   "pygments_lexer": "ipython3",
   "version": "3.6.7"
  }
 },
 "nbformat": 4,
 "nbformat_minor": 4
}
