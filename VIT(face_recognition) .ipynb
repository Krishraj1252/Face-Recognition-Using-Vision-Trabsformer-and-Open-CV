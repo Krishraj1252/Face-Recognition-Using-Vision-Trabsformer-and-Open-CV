{
  "nbformat": 4,
  "nbformat_minor": 0,
  "metadata": {
    "colab": {
      "provenance": []
    },
    "kernelspec": {
      "name": "python3",
      "display_name": "Python 3"
    },
    "language_info": {
      "name": "python"
    }
  },
  "cells": [
    {
      "cell_type": "code",
      "metadata": {
        "id": "doGoI3JwQhEc"
      },
      "source": [
        "import numpy as np\n",
        "import tensorflow as tf\n",
        "from tensorflow import keras\n",
        "from tensorflow.keras import layers"
      ],
      "execution_count": 1,
      "outputs": []
    },
    {
      "cell_type": "code",
      "metadata": {
        "id": "OUmW3zh4lrbQ",
        "colab": {
          "base_uri": "https://localhost:8080/"
        },
        "outputId": "08317845-b0d9-46fc-dec9-c2fee046c86b"
      },
      "source": [
        "\n",
        "!unzip new_set.zip"
      ],
      "execution_count": 2,
      "outputs": [
        {
          "output_type": "stream",
          "name": "stdout",
          "text": [
            "Archive:  new_set.zip\n",
            "   creating: new_set/test_data/\n",
            "   creating: new_set/test_data/1/\n",
            "  inflating: new_set/test_data/1/User.1.16.jpg  \n",
            "  inflating: new_set/test_data/1/User.1.27.jpg  \n",
            " extracting: new_set/test_data/1/User.1.30.jpg  \n",
            " extracting: new_set/test_data/1/User.1.45.jpg  \n",
            " extracting: new_set/test_data/1/User.1.46.jpg  \n",
            " extracting: new_set/test_data/1/User.1.47.jpg  \n",
            "   creating: new_set/test_data/2/\n",
            " extracting: new_set/test_data/2/test_2.jpg  \n",
            " extracting: new_set/test_data/2/User.2.58.jpg  \n",
            " extracting: new_set/test_data/2/User.2.63.jpg  \n",
            " extracting: new_set/test_data/2/User.2.67.jpg  \n",
            " extracting: new_set/test_data/2/User.2.71.jpg  \n",
            " extracting: new_set/test_data/2/User.2.77.jpg  \n",
            " extracting: new_set/test_data/2/User.2.78.jpg  \n",
            " extracting: new_set/test_data/2/User.2.83.jpg  \n",
            " extracting: new_set/test_data/2/User.2.84.jpg  \n",
            " extracting: new_set/test_data/2/User.2.98.jpg  \n",
            "   creating: new_set/test_data/3/\n",
            " extracting: new_set/test_data/3/User.3.38.jpg  \n",
            " extracting: new_set/test_data/3/User.3.57.jpg  \n",
            " extracting: new_set/test_data/3/User.3.61.jpg  \n",
            " extracting: new_set/test_data/3/User.3.64.jpg  \n",
            " extracting: new_set/test_data/3/User.3.80.jpg  \n",
            " extracting: new_set/test_data/3/User.3.84.jpg  \n",
            "  inflating: new_set/test_data/3/User.3.90.jpg  \n",
            " extracting: new_set/test_data/3/User.3.96.jpg  \n",
            " extracting: new_set/test_data/3/User.3.98.jpg  \n",
            "   creating: new_set/test_data/4/\n",
            " extracting: new_set/test_data/4/User.4.101.jpg  \n",
            " extracting: new_set/test_data/4/User.4.15.jpg  \n",
            " extracting: new_set/test_data/4/User.4.27.jpg  \n",
            " extracting: new_set/test_data/4/User.4.39.jpg  \n",
            "  inflating: new_set/test_data/4/User.4.42.jpg  \n",
            " extracting: new_set/test_data/4/User.4.51.jpg  \n",
            " extracting: new_set/test_data/4/User.4.58.jpg  \n",
            " extracting: new_set/test_data/4/User.4.6.jpg  \n",
            " extracting: new_set/test_data/4/User.4.62.jpg  \n",
            " extracting: new_set/test_data/4/User.4.66.jpg  \n",
            " extracting: new_set/test_data/4/User.4.70.jpg  \n",
            "  inflating: new_set/test_data/4/User.4.74.jpg  \n",
            "  inflating: new_set/test_data/4/User.4.81.jpg  \n",
            " extracting: new_set/test_data/4/User.4.93.jpg  \n",
            "   creating: new_set/train_data/\n",
            "   creating: new_set/train_data/1/\n",
            " extracting: new_set/train_data/1/User.1.1.jpg  \n",
            " extracting: new_set/train_data/1/User.1.10.jpg  \n",
            " extracting: new_set/train_data/1/User.1.100.jpg  \n",
            " extracting: new_set/train_data/1/User.1.101.jpg  \n",
            " extracting: new_set/train_data/1/User.1.11.jpg  \n",
            " extracting: new_set/train_data/1/User.1.12.jpg  \n",
            " extracting: new_set/train_data/1/User.1.13.jpg  \n",
            " extracting: new_set/train_data/1/User.1.14.jpg  \n",
            " extracting: new_set/train_data/1/User.1.15.jpg  \n",
            "  inflating: new_set/train_data/1/User.1.17.jpg  \n",
            " extracting: new_set/train_data/1/User.1.18.jpg  \n",
            "  inflating: new_set/train_data/1/User.1.19.jpg  \n",
            " extracting: new_set/train_data/1/User.1.2.jpg  \n",
            " extracting: new_set/train_data/1/User.1.20.jpg  \n",
            "  inflating: new_set/train_data/1/User.1.21.jpg  \n",
            " extracting: new_set/train_data/1/User.1.22.jpg  \n",
            " extracting: new_set/train_data/1/User.1.23.jpg  \n",
            "  inflating: new_set/train_data/1/User.1.24.jpg  \n",
            " extracting: new_set/train_data/1/User.1.25.jpg  \n",
            " extracting: new_set/train_data/1/User.1.26.jpg  \n",
            " extracting: new_set/train_data/1/User.1.28.jpg  \n",
            " extracting: new_set/train_data/1/User.1.29.jpg  \n",
            " extracting: new_set/train_data/1/User.1.3.jpg  \n",
            " extracting: new_set/train_data/1/User.1.31.jpg  \n",
            " extracting: new_set/train_data/1/User.1.32.jpg  \n",
            " extracting: new_set/train_data/1/User.1.33.jpg  \n",
            " extracting: new_set/train_data/1/User.1.34.jpg  \n",
            " extracting: new_set/train_data/1/User.1.35.jpg  \n",
            " extracting: new_set/train_data/1/User.1.36.jpg  \n",
            "  inflating: new_set/train_data/1/User.1.37.jpg  \n",
            " extracting: new_set/train_data/1/User.1.38.jpg  \n",
            " extracting: new_set/train_data/1/User.1.39.jpg  \n",
            " extracting: new_set/train_data/1/User.1.4.jpg  \n",
            " extracting: new_set/train_data/1/User.1.40.jpg  \n",
            " extracting: new_set/train_data/1/User.1.41.jpg  \n",
            " extracting: new_set/train_data/1/User.1.42.jpg  \n",
            " extracting: new_set/train_data/1/User.1.43.jpg  \n",
            " extracting: new_set/train_data/1/User.1.44.jpg  \n",
            " extracting: new_set/train_data/1/User.1.48.jpg  \n",
            " extracting: new_set/train_data/1/User.1.49.jpg  \n",
            " extracting: new_set/train_data/1/User.1.5.jpg  \n",
            " extracting: new_set/train_data/1/User.1.50.jpg  \n",
            " extracting: new_set/train_data/1/User.1.51.jpg  \n",
            " extracting: new_set/train_data/1/User.1.52.jpg  \n",
            " extracting: new_set/train_data/1/User.1.53.jpg  \n",
            " extracting: new_set/train_data/1/User.1.54.jpg  \n",
            " extracting: new_set/train_data/1/User.1.55.jpg  \n",
            " extracting: new_set/train_data/1/User.1.56.jpg  \n",
            " extracting: new_set/train_data/1/User.1.57.jpg  \n",
            " extracting: new_set/train_data/1/User.1.58.jpg  \n",
            " extracting: new_set/train_data/1/User.1.59.jpg  \n",
            " extracting: new_set/train_data/1/User.1.6.jpg  \n",
            " extracting: new_set/train_data/1/User.1.60.jpg  \n",
            " extracting: new_set/train_data/1/User.1.61.jpg  \n",
            " extracting: new_set/train_data/1/User.1.62.jpg  \n",
            " extracting: new_set/train_data/1/User.1.63.jpg  \n",
            " extracting: new_set/train_data/1/User.1.64.jpg  \n",
            " extracting: new_set/train_data/1/User.1.65.jpg  \n",
            " extracting: new_set/train_data/1/User.1.66.jpg  \n",
            " extracting: new_set/train_data/1/User.1.7.jpg  \n",
            " extracting: new_set/train_data/1/User.1.8.jpg  \n",
            " extracting: new_set/train_data/1/User.1.81.jpg  \n",
            " extracting: new_set/train_data/1/User.1.82.jpg  \n",
            " extracting: new_set/train_data/1/User.1.83.jpg  \n",
            " extracting: new_set/train_data/1/User.1.84.jpg  \n",
            " extracting: new_set/train_data/1/User.1.85.jpg  \n",
            " extracting: new_set/train_data/1/User.1.86.jpg  \n",
            " extracting: new_set/train_data/1/User.1.87.jpg  \n",
            " extracting: new_set/train_data/1/User.1.88.jpg  \n",
            " extracting: new_set/train_data/1/User.1.89.jpg  \n",
            " extracting: new_set/train_data/1/User.1.9.jpg  \n",
            " extracting: new_set/train_data/1/User.1.90.jpg  \n",
            " extracting: new_set/train_data/1/User.1.91.jpg  \n",
            " extracting: new_set/train_data/1/User.1.92.jpg  \n",
            " extracting: new_set/train_data/1/User.1.93.jpg  \n",
            " extracting: new_set/train_data/1/User.1.94.jpg  \n",
            " extracting: new_set/train_data/1/User.1.95.jpg  \n",
            " extracting: new_set/train_data/1/User.1.96.jpg  \n",
            " extracting: new_set/train_data/1/User.1.97.jpg  \n",
            " extracting: new_set/train_data/1/User.1.98.jpg  \n",
            "  inflating: new_set/train_data/1/User.1.99.jpg  \n",
            "   creating: new_set/train_data/2/\n",
            " extracting: new_set/train_data/2/User.2.1.jpg  \n",
            " extracting: new_set/train_data/2/User.2.10.jpg  \n",
            "  inflating: new_set/train_data/2/User.2.100.jpg  \n",
            " extracting: new_set/train_data/2/User.2.101.jpg  \n",
            "  inflating: new_set/train_data/2/User.2.11.jpg  \n",
            " extracting: new_set/train_data/2/User.2.12.jpg  \n",
            " extracting: new_set/train_data/2/User.2.13.jpg  \n",
            " extracting: new_set/train_data/2/User.2.14.jpg  \n",
            " extracting: new_set/train_data/2/User.2.15.jpg  \n",
            " extracting: new_set/train_data/2/User.2.16.jpg  \n",
            "  inflating: new_set/train_data/2/User.2.17.jpg  \n",
            " extracting: new_set/train_data/2/User.2.18.jpg  \n",
            " extracting: new_set/train_data/2/User.2.19.jpg  \n",
            " extracting: new_set/train_data/2/User.2.2.jpg  \n",
            " extracting: new_set/train_data/2/User.2.20.jpg  \n",
            " extracting: new_set/train_data/2/User.2.21.jpg  \n",
            " extracting: new_set/train_data/2/User.2.22.jpg  \n",
            " extracting: new_set/train_data/2/User.2.23.jpg  \n",
            " extracting: new_set/train_data/2/User.2.24.jpg  \n",
            " extracting: new_set/train_data/2/User.2.25.jpg  \n",
            " extracting: new_set/train_data/2/User.2.26.jpg  \n",
            " extracting: new_set/train_data/2/User.2.27.jpg  \n",
            " extracting: new_set/train_data/2/User.2.28.jpg  \n",
            " extracting: new_set/train_data/2/User.2.29.jpg  \n",
            " extracting: new_set/train_data/2/User.2.3.jpg  \n",
            " extracting: new_set/train_data/2/User.2.30.jpg  \n",
            " extracting: new_set/train_data/2/User.2.31.jpg  \n",
            " extracting: new_set/train_data/2/User.2.32.jpg  \n",
            " extracting: new_set/train_data/2/User.2.33.jpg  \n",
            " extracting: new_set/train_data/2/User.2.34.jpg  \n",
            " extracting: new_set/train_data/2/User.2.35.jpg  \n",
            " extracting: new_set/train_data/2/User.2.36.jpg  \n",
            " extracting: new_set/train_data/2/User.2.37.jpg  \n",
            " extracting: new_set/train_data/2/User.2.38.jpg  \n",
            " extracting: new_set/train_data/2/User.2.39.jpg  \n",
            " extracting: new_set/train_data/2/User.2.4.jpg  \n",
            " extracting: new_set/train_data/2/User.2.40.jpg  \n",
            " extracting: new_set/train_data/2/User.2.41.jpg  \n",
            " extracting: new_set/train_data/2/User.2.42.jpg  \n",
            " extracting: new_set/train_data/2/User.2.43.jpg  \n",
            " extracting: new_set/train_data/2/User.2.44.jpg  \n",
            " extracting: new_set/train_data/2/User.2.45.jpg  \n",
            " extracting: new_set/train_data/2/User.2.46.jpg  \n",
            " extracting: new_set/train_data/2/User.2.47.jpg  \n",
            " extracting: new_set/train_data/2/User.2.48.jpg  \n",
            " extracting: new_set/train_data/2/User.2.49.jpg  \n",
            " extracting: new_set/train_data/2/User.2.5.jpg  \n",
            " extracting: new_set/train_data/2/User.2.50.jpg  \n",
            " extracting: new_set/train_data/2/User.2.51.jpg  \n",
            " extracting: new_set/train_data/2/User.2.52.jpg  \n",
            " extracting: new_set/train_data/2/User.2.53.jpg  \n",
            " extracting: new_set/train_data/2/User.2.54.jpg  \n",
            " extracting: new_set/train_data/2/User.2.55.jpg  \n",
            " extracting: new_set/train_data/2/User.2.56.jpg  \n",
            " extracting: new_set/train_data/2/User.2.57.jpg  \n",
            " extracting: new_set/train_data/2/User.2.59.jpg  \n",
            " extracting: new_set/train_data/2/User.2.6.jpg  \n",
            " extracting: new_set/train_data/2/User.2.60.jpg  \n",
            " extracting: new_set/train_data/2/User.2.61.jpg  \n",
            " extracting: new_set/train_data/2/User.2.62.jpg  \n",
            " extracting: new_set/train_data/2/User.2.64.jpg  \n",
            " extracting: new_set/train_data/2/User.2.65.jpg  \n",
            " extracting: new_set/train_data/2/User.2.66.jpg  \n",
            " extracting: new_set/train_data/2/User.2.68.jpg  \n",
            " extracting: new_set/train_data/2/User.2.69.jpg  \n",
            " extracting: new_set/train_data/2/User.2.7.jpg  \n",
            " extracting: new_set/train_data/2/User.2.70.jpg  \n",
            " extracting: new_set/train_data/2/User.2.72.jpg  \n",
            " extracting: new_set/train_data/2/User.2.73.jpg  \n",
            " extracting: new_set/train_data/2/User.2.74.jpg  \n",
            " extracting: new_set/train_data/2/User.2.75.jpg  \n",
            " extracting: new_set/train_data/2/User.2.76.jpg  \n",
            " extracting: new_set/train_data/2/User.2.79.jpg  \n",
            " extracting: new_set/train_data/2/User.2.8.jpg  \n",
            " extracting: new_set/train_data/2/User.2.80.jpg  \n",
            " extracting: new_set/train_data/2/User.2.81.jpg  \n",
            " extracting: new_set/train_data/2/User.2.82.jpg  \n",
            " extracting: new_set/train_data/2/User.2.85.jpg  \n",
            " extracting: new_set/train_data/2/User.2.86.jpg  \n",
            " extracting: new_set/train_data/2/User.2.87.jpg  \n",
            " extracting: new_set/train_data/2/User.2.88.jpg  \n",
            " extracting: new_set/train_data/2/User.2.89.jpg  \n",
            " extracting: new_set/train_data/2/User.2.9.jpg  \n",
            " extracting: new_set/train_data/2/User.2.90.jpg  \n",
            " extracting: new_set/train_data/2/User.2.91.jpg  \n",
            " extracting: new_set/train_data/2/User.2.92.jpg  \n",
            " extracting: new_set/train_data/2/User.2.93.jpg  \n",
            " extracting: new_set/train_data/2/User.2.94.jpg  \n",
            " extracting: new_set/train_data/2/User.2.95.jpg  \n",
            " extracting: new_set/train_data/2/User.2.96.jpg  \n",
            " extracting: new_set/train_data/2/User.2.97.jpg  \n",
            "  inflating: new_set/train_data/2/User.2.99.jpg  \n",
            "   creating: new_set/train_data/3/\n",
            " extracting: new_set/train_data/3/User.3.1.jpg  \n",
            " extracting: new_set/train_data/3/User.3.10.jpg  \n",
            "  inflating: new_set/train_data/3/User.3.100.jpg  \n",
            " extracting: new_set/train_data/3/User.3.101.jpg  \n",
            " extracting: new_set/train_data/3/User.3.11.jpg  \n",
            " extracting: new_set/train_data/3/User.3.12.jpg  \n",
            " extracting: new_set/train_data/3/User.3.13.jpg  \n",
            " extracting: new_set/train_data/3/User.3.14.jpg  \n",
            " extracting: new_set/train_data/3/User.3.15.jpg  \n",
            " extracting: new_set/train_data/3/User.3.16.jpg  \n",
            " extracting: new_set/train_data/3/User.3.17.jpg  \n",
            " extracting: new_set/train_data/3/User.3.18.jpg  \n",
            " extracting: new_set/train_data/3/User.3.19.jpg  \n",
            " extracting: new_set/train_data/3/User.3.2.jpg  \n",
            " extracting: new_set/train_data/3/User.3.20.jpg  \n",
            " extracting: new_set/train_data/3/User.3.21.jpg  \n",
            " extracting: new_set/train_data/3/User.3.22.jpg  \n",
            " extracting: new_set/train_data/3/User.3.23.jpg  \n",
            " extracting: new_set/train_data/3/User.3.24.jpg  \n",
            " extracting: new_set/train_data/3/User.3.25.jpg  \n",
            " extracting: new_set/train_data/3/User.3.26.jpg  \n",
            " extracting: new_set/train_data/3/User.3.27.jpg  \n",
            " extracting: new_set/train_data/3/User.3.28.jpg  \n",
            " extracting: new_set/train_data/3/User.3.29.jpg  \n",
            " extracting: new_set/train_data/3/User.3.3.jpg  \n",
            " extracting: new_set/train_data/3/User.3.30.jpg  \n",
            " extracting: new_set/train_data/3/User.3.31.jpg  \n",
            " extracting: new_set/train_data/3/User.3.32.jpg  \n",
            " extracting: new_set/train_data/3/User.3.33.jpg  \n",
            " extracting: new_set/train_data/3/User.3.34.jpg  \n",
            " extracting: new_set/train_data/3/User.3.35.jpg  \n",
            " extracting: new_set/train_data/3/User.3.36.jpg  \n",
            " extracting: new_set/train_data/3/User.3.37.jpg  \n",
            " extracting: new_set/train_data/3/User.3.39.jpg  \n",
            " extracting: new_set/train_data/3/User.3.4.jpg  \n",
            " extracting: new_set/train_data/3/User.3.40.jpg  \n",
            " extracting: new_set/train_data/3/User.3.41.jpg  \n",
            " extracting: new_set/train_data/3/User.3.42.jpg  \n",
            " extracting: new_set/train_data/3/User.3.43.jpg  \n",
            " extracting: new_set/train_data/3/User.3.44.jpg  \n",
            " extracting: new_set/train_data/3/User.3.45.jpg  \n",
            " extracting: new_set/train_data/3/User.3.46.jpg  \n",
            " extracting: new_set/train_data/3/User.3.47.jpg  \n",
            " extracting: new_set/train_data/3/User.3.48.jpg  \n",
            " extracting: new_set/train_data/3/User.3.49.jpg  \n",
            " extracting: new_set/train_data/3/User.3.5.jpg  \n",
            " extracting: new_set/train_data/3/User.3.50.jpg  \n",
            " extracting: new_set/train_data/3/User.3.51.jpg  \n",
            " extracting: new_set/train_data/3/User.3.52.jpg  \n",
            " extracting: new_set/train_data/3/User.3.53.jpg  \n",
            " extracting: new_set/train_data/3/User.3.54.jpg  \n",
            " extracting: new_set/train_data/3/User.3.55.jpg  \n",
            " extracting: new_set/train_data/3/User.3.56.jpg  \n",
            " extracting: new_set/train_data/3/User.3.58.jpg  \n",
            " extracting: new_set/train_data/3/User.3.59.jpg  \n",
            " extracting: new_set/train_data/3/User.3.6.jpg  \n",
            " extracting: new_set/train_data/3/User.3.60.jpg  \n",
            " extracting: new_set/train_data/3/User.3.62.jpg  \n",
            " extracting: new_set/train_data/3/User.3.63.jpg  \n",
            " extracting: new_set/train_data/3/User.3.65.jpg  \n",
            " extracting: new_set/train_data/3/User.3.66.jpg  \n",
            " extracting: new_set/train_data/3/User.3.67.jpg  \n",
            " extracting: new_set/train_data/3/User.3.68.jpg  \n",
            " extracting: new_set/train_data/3/User.3.69.jpg  \n",
            " extracting: new_set/train_data/3/User.3.7.jpg  \n",
            " extracting: new_set/train_data/3/User.3.70.jpg  \n",
            "  inflating: new_set/train_data/3/User.3.71.jpg  \n",
            " extracting: new_set/train_data/3/User.3.72.jpg  \n",
            " extracting: new_set/train_data/3/User.3.73.jpg  \n",
            " extracting: new_set/train_data/3/User.3.74.jpg  \n",
            " extracting: new_set/train_data/3/User.3.75.jpg  \n",
            "  inflating: new_set/train_data/3/User.3.76.jpg  \n",
            " extracting: new_set/train_data/3/User.3.77.jpg  \n",
            " extracting: new_set/train_data/3/User.3.78.jpg  \n",
            " extracting: new_set/train_data/3/User.3.79.jpg  \n",
            " extracting: new_set/train_data/3/User.3.8.jpg  \n",
            " extracting: new_set/train_data/3/User.3.81.jpg  \n",
            " extracting: new_set/train_data/3/User.3.82.jpg  \n",
            " extracting: new_set/train_data/3/User.3.83.jpg  \n",
            "  inflating: new_set/train_data/3/User.3.85.jpg  \n",
            " extracting: new_set/train_data/3/User.3.86.jpg  \n",
            "  inflating: new_set/train_data/3/User.3.87.jpg  \n",
            " extracting: new_set/train_data/3/User.3.88.jpg  \n",
            "  inflating: new_set/train_data/3/User.3.89.jpg  \n",
            " extracting: new_set/train_data/3/User.3.9.jpg  \n",
            " extracting: new_set/train_data/3/User.3.91.jpg  \n",
            " extracting: new_set/train_data/3/User.3.92.jpg  \n",
            "  inflating: new_set/train_data/3/User.3.93.jpg  \n",
            " extracting: new_set/train_data/3/User.3.94.jpg  \n",
            " extracting: new_set/train_data/3/User.3.95.jpg  \n",
            " extracting: new_set/train_data/3/User.3.97.jpg  \n",
            " extracting: new_set/train_data/3/User.3.99.jpg  \n",
            "   creating: new_set/train_data/4/\n",
            " extracting: new_set/train_data/4/User.4.1.jpg  \n",
            " extracting: new_set/train_data/4/User.4.10.jpg  \n",
            "  inflating: new_set/train_data/4/User.4.100.jpg  \n",
            " extracting: new_set/train_data/4/User.4.11.jpg  \n",
            " extracting: new_set/train_data/4/User.4.12.jpg  \n",
            " extracting: new_set/train_data/4/User.4.13.jpg  \n",
            "  inflating: new_set/train_data/4/User.4.14.jpg  \n",
            " extracting: new_set/train_data/4/User.4.16.jpg  \n",
            " extracting: new_set/train_data/4/User.4.17.jpg  \n",
            " extracting: new_set/train_data/4/User.4.18.jpg  \n",
            "  inflating: new_set/train_data/4/User.4.19.jpg  \n",
            " extracting: new_set/train_data/4/User.4.2.jpg  \n",
            " extracting: new_set/train_data/4/User.4.20.jpg  \n",
            "  inflating: new_set/train_data/4/User.4.21.jpg  \n",
            " extracting: new_set/train_data/4/User.4.22.jpg  \n",
            " extracting: new_set/train_data/4/User.4.23.jpg  \n",
            " extracting: new_set/train_data/4/User.4.24.jpg  \n",
            " extracting: new_set/train_data/4/User.4.25.jpg  \n",
            " extracting: new_set/train_data/4/User.4.26.jpg  \n",
            " extracting: new_set/train_data/4/User.4.28.jpg  \n",
            " extracting: new_set/train_data/4/User.4.29.jpg  \n",
            " extracting: new_set/train_data/4/User.4.3.jpg  \n",
            " extracting: new_set/train_data/4/User.4.30.jpg  \n",
            " extracting: new_set/train_data/4/User.4.31.jpg  \n",
            " extracting: new_set/train_data/4/User.4.32.jpg  \n",
            " extracting: new_set/train_data/4/User.4.33.jpg  \n",
            " extracting: new_set/train_data/4/User.4.34.jpg  \n",
            " extracting: new_set/train_data/4/User.4.35.jpg  \n",
            " extracting: new_set/train_data/4/User.4.36.jpg  \n",
            " extracting: new_set/train_data/4/User.4.37.jpg  \n",
            " extracting: new_set/train_data/4/User.4.38.jpg  \n",
            " extracting: new_set/train_data/4/User.4.4.jpg  \n",
            " extracting: new_set/train_data/4/User.4.40.jpg  \n",
            " extracting: new_set/train_data/4/User.4.41.jpg  \n",
            "  inflating: new_set/train_data/4/User.4.43.jpg  \n",
            " extracting: new_set/train_data/4/User.4.44.jpg  \n",
            " extracting: new_set/train_data/4/User.4.45.jpg  \n",
            " extracting: new_set/train_data/4/User.4.46.jpg  \n",
            " extracting: new_set/train_data/4/User.4.47.jpg  \n",
            " extracting: new_set/train_data/4/User.4.48.jpg  \n",
            " extracting: new_set/train_data/4/User.4.49.jpg  \n",
            " extracting: new_set/train_data/4/User.4.5.jpg  \n",
            " extracting: new_set/train_data/4/User.4.50.jpg  \n",
            " extracting: new_set/train_data/4/User.4.52.jpg  \n",
            " extracting: new_set/train_data/4/User.4.53.jpg  \n",
            " extracting: new_set/train_data/4/User.4.54.jpg  \n",
            " extracting: new_set/train_data/4/User.4.55.jpg  \n",
            " extracting: new_set/train_data/4/User.4.56.jpg  \n",
            " extracting: new_set/train_data/4/User.4.57.jpg  \n",
            " extracting: new_set/train_data/4/User.4.59.jpg  \n",
            " extracting: new_set/train_data/4/User.4.60.jpg  \n",
            " extracting: new_set/train_data/4/User.4.61.jpg  \n",
            " extracting: new_set/train_data/4/User.4.63.jpg  \n",
            "  inflating: new_set/train_data/4/User.4.64.jpg  \n",
            " extracting: new_set/train_data/4/User.4.65.jpg  \n",
            " extracting: new_set/train_data/4/User.4.67.jpg  \n",
            " extracting: new_set/train_data/4/User.4.68.jpg  \n",
            " extracting: new_set/train_data/4/User.4.69.jpg  \n",
            " extracting: new_set/train_data/4/User.4.7.jpg  \n",
            " extracting: new_set/train_data/4/User.4.71.jpg  \n",
            " extracting: new_set/train_data/4/User.4.72.jpg  \n",
            " extracting: new_set/train_data/4/User.4.73.jpg  \n",
            " extracting: new_set/train_data/4/User.4.75.jpg  \n",
            " extracting: new_set/train_data/4/User.4.76.jpg  \n",
            " extracting: new_set/train_data/4/User.4.77.jpg  \n",
            " extracting: new_set/train_data/4/User.4.78.jpg  \n",
            " extracting: new_set/train_data/4/User.4.79.jpg  \n",
            " extracting: new_set/train_data/4/User.4.8.jpg  \n",
            " extracting: new_set/train_data/4/User.4.80.jpg  \n",
            " extracting: new_set/train_data/4/User.4.82.jpg  \n",
            " extracting: new_set/train_data/4/User.4.83.jpg  \n",
            " extracting: new_set/train_data/4/User.4.84.jpg  \n",
            " extracting: new_set/train_data/4/User.4.85.jpg  \n",
            " extracting: new_set/train_data/4/User.4.86.jpg  \n",
            " extracting: new_set/train_data/4/User.4.87.jpg  \n",
            " extracting: new_set/train_data/4/User.4.88.jpg  \n",
            " extracting: new_set/train_data/4/User.4.89.jpg  \n",
            " extracting: new_set/train_data/4/User.4.9.jpg  \n",
            " extracting: new_set/train_data/4/User.4.90.jpg  \n",
            " extracting: new_set/train_data/4/User.4.91.jpg  \n",
            " extracting: new_set/train_data/4/User.4.92.jpg  \n",
            " extracting: new_set/train_data/4/User.4.94.jpg  \n",
            " extracting: new_set/train_data/4/User.4.95.jpg  \n",
            "  inflating: new_set/train_data/4/User.4.96.jpg  \n",
            " extracting: new_set/train_data/4/User.4.97.jpg  \n",
            " extracting: new_set/train_data/4/User.4.98.jpg  \n",
            " extracting: new_set/train_data/4/User.4.99.jpg  \n"
          ]
        }
      ]
    },
    {
      "cell_type": "code",
      "metadata": {
        "id": "uhq_b7hUT-pr",
        "colab": {
          "base_uri": "https://localhost:8080/"
        },
        "outputId": "aaabcd97-3527-41e8-8fca-4487374b9e8e"
      },
      "source": [
        "pip install -U tensorflow-addons"
      ],
      "execution_count": 3,
      "outputs": [
        {
          "output_type": "stream",
          "name": "stdout",
          "text": [
            "Looking in indexes: https://pypi.org/simple, https://us-python.pkg.dev/colab-wheels/public/simple/\n",
            "Collecting tensorflow-addons\n",
            "  Downloading tensorflow_addons-0.19.0-cp39-cp39-manylinux_2_17_x86_64.manylinux2014_x86_64.whl (1.1 MB)\n",
            "\u001b[2K     \u001b[90m━━━━━━━━━━━━━━━━━━━━━━━━━━━━━━━━━━━━━━━━\u001b[0m \u001b[32m1.1/1.1 MB\u001b[0m \u001b[31m14.5 MB/s\u001b[0m eta \u001b[36m0:00:00\u001b[0m\n",
            "\u001b[?25hCollecting typeguard>=2.7\n",
            "  Downloading typeguard-3.0.2-py3-none-any.whl (30 kB)\n",
            "Requirement already satisfied: packaging in /usr/local/lib/python3.9/dist-packages (from tensorflow-addons) (23.0)\n",
            "Requirement already satisfied: importlib-metadata>=3.6 in /usr/local/lib/python3.9/dist-packages (from typeguard>=2.7->tensorflow-addons) (6.1.0)\n",
            "Requirement already satisfied: typing-extensions>=4.4.0 in /usr/local/lib/python3.9/dist-packages (from typeguard>=2.7->tensorflow-addons) (4.5.0)\n",
            "Requirement already satisfied: zipp>=0.5 in /usr/local/lib/python3.9/dist-packages (from importlib-metadata>=3.6->typeguard>=2.7->tensorflow-addons) (3.15.0)\n",
            "Installing collected packages: typeguard, tensorflow-addons\n",
            "Successfully installed tensorflow-addons-0.19.0 typeguard-3.0.2\n"
          ]
        }
      ]
    },
    {
      "cell_type": "code",
      "metadata": {
        "id": "42FNgWWyUqZK",
        "colab": {
          "base_uri": "https://localhost:8080/"
        },
        "outputId": "4b757a16-8e33-4d0e-b19a-ad99430f028e"
      },
      "source": [
        "from tensorflow.keras import layers\n",
        "import tensorflow_addons as tfa"
      ],
      "execution_count": 4,
      "outputs": [
        {
          "output_type": "stream",
          "name": "stderr",
          "text": [
            "/usr/local/lib/python3.9/dist-packages/tensorflow_addons/utils/ensure_tf_install.py:53: UserWarning: Tensorflow Addons supports using Python ops for all Tensorflow versions above or equal to 2.9.0 and strictly below 2.12.0 (nightly versions are not supported). \n",
            " The versions of TensorFlow you are currently using is 2.12.0 and is not supported. \n",
            "Some things might work, some things might not.\n",
            "If you were to encounter a bug, do not file an issue.\n",
            "If you want to make sure you're using a tested and supported configuration, either change the TensorFlow version or the TensorFlow Addons's version. \n",
            "You can find the compatibility matrix in TensorFlow Addon's readme:\n",
            "https://github.com/tensorflow/addons\n",
            "  warnings.warn(\n"
          ]
        }
      ]
    },
    {
      "cell_type": "code",
      "metadata": {
        "id": "xyw1UHHvUvCy"
      },
      "source": [
        "import numpy as np\n",
        "import os\n",
        "from sklearn.metrics import confusion_matrix\n",
        "import seaborn as sn; sn.set(font_scale=1.4)\n",
        "from sklearn.utils import shuffle           \n",
        "import matplotlib.pyplot as plt             \n",
        "import cv2                                 \n",
        "import tensorflow as tf                \n",
        "from tqdm import tqdm"
      ],
      "execution_count": 5,
      "outputs": []
    },
    {
      "cell_type": "code",
      "metadata": {
        "id": "sH1Lvx_qU8XA"
      },
      "source": [
        "class_names = ['1','2','3' , '4']\n",
        "class_names_label = {class_name:i for i, class_name in enumerate(class_names)}\n",
        "\n",
        "nb_classes = len(class_names)\n",
        "\n",
        "input_shape = (90, 90,3)"
      ],
      "execution_count": 6,
      "outputs": []
    },
    {
      "cell_type": "code",
      "metadata": {
        "id": "v14f8WIhWPbW"
      },
      "source": [
        "def load_data():\n",
        "  datasets = ['new_set/train_data/' , 'new_set/test_data/']\n",
        "  output = []\n",
        "\n",
        "  for dataset in datasets:\n",
        "\n",
        "    images = []\n",
        "    labels = []\n",
        "    print(\"Loading{}\".format(dataset))\n",
        "\n",
        "    for folder in os.listdir(dataset):\n",
        "      label= class_names_label[folder]\n",
        "\n",
        "      for file in tqdm(os.listdir(os.path.join(dataset,folder))):\n",
        "        image_path = os.path.join(os.path.join(dataset, folder), file)\n",
        "        image = cv2.imread(image_path)\n",
        "        image = cv2.cvtColor(image, cv2.COLOR_BGR2RGB)\n",
        "        image = cv2.resize(image, input_shape[:2]) \n",
        "\n",
        "        images.append(image)\n",
        "        labels.append(label)\n",
        "    images = np.array(images, dtype = 'float32')\n",
        "    labels = np.array(labels, dtype = 'int32')\n",
        "    output.append((images, labels))\n",
        "  return output\n",
        "\n",
        "\n",
        "\n"
      ],
      "execution_count": 7,
      "outputs": []
    },
    {
      "cell_type": "code",
      "metadata": {
        "colab": {
          "base_uri": "https://localhost:8080/"
        },
        "id": "sVZKRIPIZQ5a",
        "outputId": "98ea03d6-f548-481c-c282-f34827546b7f"
      },
      "source": [
        "(x_train, y_train), (x_test, y_test) = load_data()"
      ],
      "execution_count": 8,
      "outputs": [
        {
          "output_type": "stream",
          "name": "stdout",
          "text": [
            "Loadingnew_set/train_data/\n"
          ]
        },
        {
          "output_type": "stream",
          "name": "stderr",
          "text": [
            "100%|██████████| 81/81 [00:00<00:00, 893.41it/s]\n",
            "100%|██████████| 87/87 [00:00<00:00, 1770.48it/s]\n",
            "100%|██████████| 92/92 [00:00<00:00, 479.84it/s]\n",
            "100%|██████████| 92/92 [00:00<00:00, 1155.31it/s]\n"
          ]
        },
        {
          "output_type": "stream",
          "name": "stdout",
          "text": [
            "Loadingnew_set/test_data/\n"
          ]
        },
        {
          "output_type": "stream",
          "name": "stderr",
          "text": [
            "100%|██████████| 6/6 [00:00<00:00, 3786.04it/s]\n",
            "100%|██████████| 14/14 [00:00<00:00, 966.24it/s]\n",
            "100%|██████████| 10/10 [00:00<00:00, 393.78it/s]\n",
            "100%|██████████| 9/9 [00:00<00:00, 3317.40it/s]\n"
          ]
        }
      ]
    },
    {
      "cell_type": "code",
      "metadata": {
        "colab": {
          "base_uri": "https://localhost:8080/"
        },
        "id": "zR5WtddGZYYn",
        "outputId": "181dfe00-4dcf-4136-8846-7aede5f97f53"
      },
      "source": [
        "n_train = x_train.shape[0]\n",
        "n_test = y_test.shape[0]\n",
        "\n",
        "\n",
        "print (\"Number of training examples: {}\".format(n_train))\n",
        "print (\"Number of testing examples: {}\".format(n_test))\n",
        "print (\"Each image is of size: {}\".format(input_shape))"
      ],
      "execution_count": 9,
      "outputs": [
        {
          "output_type": "stream",
          "name": "stdout",
          "text": [
            "Number of training examples: 352\n",
            "Number of testing examples: 39\n",
            "Each image is of size: (90, 90, 3)\n"
          ]
        }
      ]
    },
    {
      "cell_type": "code",
      "metadata": {
        "id": "2MCl83KnZw2A"
      },
      "source": [
        "#  Configure the hyperparameters\n"
      ],
      "execution_count": null,
      "outputs": []
    },
    {
      "cell_type": "code",
      "metadata": {
        "id": "OfsyElyUaHx2"
      },
      "source": [
        "learning_rate = 0.001\n",
        "weight_decay = 0.0001\n",
        "batch_size = 256\n",
        "num_epochs = 100\n",
        "image_size = 72  # We'll resize input images to this size\n",
        "patch_size = 24  # Size of the patches to be extract from the input images\n",
        "num_patches = (image_size // patch_size) ** 2\n",
        "projection_dim = 64\n",
        "num_heads = 4\n",
        "transformer_units = [\n",
        "    projection_dim * 2,\n",
        "    projection_dim,\n",
        "]  # Size of the transformer layers\n",
        "transformer_layers = 8\n",
        "mlp_head_units = [2048, 1024]  # Size of the dense layers of the final classifier"
      ],
      "execution_count": 10,
      "outputs": []
    },
    {
      "cell_type": "code",
      "metadata": {
        "colab": {
          "base_uri": "https://localhost:8080/"
        },
        "id": "L19jvvn8aTcm",
        "outputId": "8d738d74-d79c-49b6-9bd9-ae0c3caea53c"
      },
      "source": [
        "print(f\"x_train shape: {x_train.shape} - y_train shape: {y_train.shape}\")\n",
        "print(f\"x_test shape: {x_test.shape} - y_test shape: {y_test.shape}\")"
      ],
      "execution_count": 11,
      "outputs": [
        {
          "output_type": "stream",
          "name": "stdout",
          "text": [
            "x_train shape: (352, 90, 90, 3) - y_train shape: (352,)\n",
            "x_test shape: (39, 90, 90, 3) - y_test shape: (39,)\n"
          ]
        }
      ]
    },
    {
      "cell_type": "code",
      "metadata": {
        "id": "_cWcvdJdbSaA"
      },
      "source": [
        "# Use data augmentation"
      ],
      "execution_count": 12,
      "outputs": []
    },
    {
      "cell_type": "code",
      "metadata": {
        "id": "lYbrri9qbZkr"
      },
      "source": [
        "data_augmentation = keras.Sequential(\n",
        "    [\n",
        "        layers.experimental.preprocessing.Normalization(),\n",
        "        layers.experimental.preprocessing.Resizing(image_size, image_size),\n",
        "        layers.experimental.preprocessing.RandomFlip(\"horizontal\"),\n",
        "        layers.experimental.preprocessing.RandomRotation(factor=0.02),\n",
        "        layers.experimental.preprocessing.RandomZoom(\n",
        "            height_factor=0.2, width_factor=0.2\n",
        "        ),\n",
        "    ],\n",
        "    name=\"data_augmentation\",\n",
        ")\n",
        "# Compute the mean and the variance of the training data for normalization.\n",
        "data_augmentation.layers[0].adapt(x_train)"
      ],
      "execution_count": 13,
      "outputs": []
    },
    {
      "cell_type": "code",
      "metadata": {
        "id": "jNB9FaKgbphb"
      },
      "source": [
        "# Implement multilayer perceptron (MLP)"
      ],
      "execution_count": 14,
      "outputs": []
    },
    {
      "cell_type": "code",
      "metadata": {
        "id": "B1-DcOpKbuvC"
      },
      "source": [
        "def mlp(x, hidden_units, dropout_rate):\n",
        "    for units in hidden_units:\n",
        "        x = layers.Dense(units, activation=tf.nn.gelu)(x)\n",
        "        x = layers.Dropout(dropout_rate)(x)\n",
        "    return x"
      ],
      "execution_count": 15,
      "outputs": []
    },
    {
      "cell_type": "code",
      "metadata": {
        "id": "FxxGBduvcFIF"
      },
      "source": [
        "#Implement patch creation as a layer"
      ],
      "execution_count": 16,
      "outputs": []
    },
    {
      "cell_type": "code",
      "metadata": {
        "id": "SbqLgQgWcJSw"
      },
      "source": [
        "class Patches(layers.Layer):\n",
        "    def __init__(self, patch_size):\n",
        "        super(Patches, self).__init__()\n",
        "        self.patch_size = patch_size\n",
        "\n",
        "    def call(self, images):\n",
        "        batch_size = tf.shape(images)[0]\n",
        "        patches = tf.image.extract_patches(\n",
        "            images=images,\n",
        "            sizes=[1, self.patch_size, self.patch_size, 1],\n",
        "            strides=[1, self.patch_size, self.patch_size, 1],\n",
        "            rates=[1, 1, 1, 1],\n",
        "            padding=\"VALID\",\n",
        "        )\n",
        "        patch_dims = patches.shape[-1]\n",
        "        patches = tf.reshape(patches, [batch_size, -1, patch_dims])\n",
        "        return patches"
      ],
      "execution_count": 17,
      "outputs": []
    },
    {
      "cell_type": "code",
      "metadata": {
        "id": "qrSo8vG5cOxd"
      },
      "source": [
        "#lets display"
      ],
      "execution_count": 18,
      "outputs": []
    },
    {
      "cell_type": "code",
      "metadata": {
        "colab": {
          "base_uri": "https://localhost:8080/",
          "height": 749
        },
        "id": "LUjH6GqhcY1J",
        "outputId": "f40c2acd-a5a7-4586-d1f2-6a10360b7473"
      },
      "source": [
        "import matplotlib.pyplot as plt\n",
        "\n",
        "plt.figure(figsize=(4, 4))\n",
        "image = x_train[np.random.choice(range(x_train.shape[0]))]\n",
        "plt.imshow(image.astype(\"uint8\"))\n",
        "plt.axis(\"off\")\n",
        "\n",
        "resized_image = tf.image.resize(tf.convert_to_tensor([image]), size=(image_size, image_size))\n",
        "patches = Patches(patch_size)(resized_image)\n",
        "print(f\"Image size: {image_size} X {image_size}\")\n",
        "print(f\"Patch size: {patch_size} X {patch_size}\")\n",
        "print(f\"Patches per image: {patches.shape[1]}\")\n",
        "print(f\"Elements per patch: {patches.shape[-1]}\")\n",
        "\n",
        "n = int(np.sqrt(patches.shape[1]))\n",
        "plt.figure(figsize=(4, 4))\n",
        "for i, patch in enumerate(patches[0]):\n",
        "    ax = plt.subplot(n, n, i + 1)\n",
        "    patch_img = tf.reshape(patch, (patch_size, patch_size, 3))\n",
        "    plt.imshow(patch_img.numpy().astype(\"uint8\"))\n",
        "    plt.axis(\"off\")"
      ],
      "execution_count": 19,
      "outputs": [
        {
          "output_type": "stream",
          "name": "stdout",
          "text": [
            "Image size: 72 X 72\n",
            "Patch size: 24 X 24\n",
            "Patches per image: 9\n",
            "Elements per patch: 1728\n"
          ]
        },
        {
          "output_type": "display_data",
          "data": {
            "text/plain": [
              "<Figure size 400x400 with 1 Axes>"
            ],
            "image/png": "[encoded data removed]"
          },
          "metadata": {}
        },
        {
          "output_type": "display_data",
          "data": {
            "text/plain": [
              "<Figure size 400x400 with 9 Axes>"
            ],
            "image/png": "[encoded data removed]"
          },
          "metadata": {}
        }
      ]
    },
    {
      "cell_type": "code",
      "metadata": {
        "id": "yBGTkSy0cleQ"
      },
      "source": [
        "#Implement the patch encoding layer"
      ],
      "execution_count": 20,
      "outputs": []
    },
    {
      "cell_type": "code",
      "metadata": {
        "id": "m--qKuj-cwZr"
      },
      "source": [
        "class PatchEncoder(layers.Layer):\n",
        "    def __init__(self, num_patches, projection_dim):\n",
        "        super(PatchEncoder, self).__init__()\n",
        "        self.num_patches = num_patches\n",
        "        self.projection = layers.Dense(units=projection_dim)\n",
        "        self.position_embedding = layers.Embedding(input_dim=num_patches, output_dim=projection_dim)\n",
        "\n",
        "    def call(self, patch):\n",
        "        positions = tf.range(start=0, limit=self.num_patches, delta=1)\n",
        "        encoded = self.projection(patch) + self.position_embedding(positions)\n",
        "        return encoded"
      ],
      "execution_count": 21,
      "outputs": []
    },
    {
      "cell_type": "code",
      "metadata": {
        "id": "gKGZz7m2c211"
      },
      "source": [
        "#Build the ViT model"
      ],
      "execution_count": 22,
      "outputs": []
    },
    {
      "cell_type": "code",
      "metadata": {
        "id": "5yH8cUY8c7Sm"
      },
      "source": [
        "def create_vit_classifier():\n",
        "    inputs = layers.Input(shape=input_shape)\n",
        "    # Augment data.\n",
        "    augmented = data_augmentation(inputs)\n",
        "    # Create patches.\n",
        "    patches = Patches(patch_size)(augmented)\n",
        "    # Encode patches.\n",
        "    encoded_patches = PatchEncoder(num_patches, projection_dim)(patches)\n",
        "\n",
        "    # Create multiple layers of the Transformer block.\n",
        "    for _ in range(transformer_layers):\n",
        "        # Layer normalization 1.\n",
        "        x1 = layers.LayerNormalization(epsilon=1e-6)(encoded_patches)\n",
        "        # Create a multi-head attention layer.\n",
        "        attention_output = layers.MultiHeadAttention(num_heads=num_heads, key_dim=projection_dim, dropout=0.1)(x1, x1)\n",
        "        # Skip connection 1.\n",
        "        x2 = layers.Add()([attention_output, encoded_patches])\n",
        "        # Layer normalization 2.\n",
        "        x3 = layers.LayerNormalization(epsilon=1e-6)(x2)\n",
        "        # MLP.\n",
        "        x3 = mlp(x3, hidden_units=transformer_units, dropout_rate=0.1)\n",
        "        # Skip connection 2.\n",
        "        encoded_patches = layers.Add()([x3, x2])\n",
        "\n",
        "    # Create a [batch_size, projection_dim] tensor.\n",
        "    representation = layers.LayerNormalization(epsilon=1e-6)(encoded_patches)\n",
        "    representation = layers.Flatten()(representation)\n",
        "    representation = layers.Dropout(0.5)(representation)\n",
        "    # Add MLP.\n",
        "    features = mlp(representation, hidden_units=mlp_head_units, dropout_rate=0.5)\n",
        "    # Classify outputs.\n",
        "    logits = layers.Dense(num_classes)(features)\n",
        "    # Create the Keras model.\n",
        "    model = keras.Model(inputs=inputs, outputs=logits)\n",
        "    return model"
      ],
      "execution_count": 23,
      "outputs": []
    },
    {
      "cell_type": "code",
      "metadata": {
        "id": "zlnkVg_ddHfZ"
      },
      "source": [
        "#Compile, train, and evaluate the mode"
      ],
      "execution_count": 24,
      "outputs": []
    },
    {
      "cell_type": "code",
      "metadata": {
        "id": "_n9qwcpZgzzn"
      },
      "source": [
        "num_classes = 4"
      ],
      "execution_count": 25,
      "outputs": []
    },
    {
      "cell_type": "code",
      "metadata": {
        "colab": {
          "base_uri": "https://localhost:8080/"
        },
        "id": "bMcNM-z-dNip",
        "outputId": "850ea29b-54d4-45b0-c181-dcd095aeb883"
      },
      "source": [
        "def run_experiment(model):\n",
        "    optimizer = tfa.optimizers.AdamW(\n",
        "        learning_rate=learning_rate, weight_decay=weight_decay\n",
        "    )\n",
        "\n",
        "    model.compile(\n",
        "        optimizer=optimizer,\n",
        "        loss=keras.losses.SparseCategoricalCrossentropy(from_logits=True),\n",
        "        metrics=[\n",
        "            keras.metrics.SparseCategoricalAccuracy(name=\"accuracy\"),\n",
        "            keras.metrics.SparseTopKCategoricalAccuracy(5, name=\"top-5-accuracy\"),\n",
        "        ],\n",
        "    )\n",
        "\n",
        "    checkpoint_filepath = \"/tmp/checkpoint\"\n",
        "    checkpoint_callback = keras.callbacks.ModelCheckpoint(\n",
        "        checkpoint_filepath,\n",
        "        monitor=\"val_accuracy\",\n",
        "        save_best_only=True,\n",
        "        save_weights_only=True,\n",
        "    )\n",
        "\n",
        "    history = model.fit(\n",
        "        x=x_train,\n",
        "        y=y_train,\n",
        "        batch_size=batch_size,\n",
        "        epochs=num_epochs,\n",
        "        validation_split=0.1,\n",
        "        callbacks=[checkpoint_callback],\n",
        "    )\n",
        "\n",
        "    model.load_weights(checkpoint_filepath)\n",
        "    _, accuracy, top_5_accuracy = model.evaluate(x_test, y_test)\n",
        "    print(f\"Test accuracy: {round(accuracy * 100, 2)}%\")\n",
        "    print(f\"Test top 5 accuracy: {round(top_5_accuracy * 100, 2)}%\")\n",
        "\n",
        "    return history\n",
        "\n",
        "\n",
        "vit_classifier = create_vit_classifier()\n",
        "history = run_experiment(vit_classifier)"
      ],
      "execution_count": 26,
      "outputs": [
        {
          "output_type": "stream",
          "name": "stdout",
          "text": [
            "Epoch 1/100\n",
            "2/2 [==============================] - 34s 3s/step - loss: 1.8250 - accuracy: 0.3259 - top-5-accuracy: 1.0000 - val_loss: 3.5508 - val_accuracy: 0.0000e+00 - val_top-5-accuracy: 1.0000\n",
            "Epoch 2/100\n",
            "2/2 [==============================] - 3s 1s/step - loss: 1.8411 - accuracy: 0.5443 - top-5-accuracy: 1.0000 - val_loss: 0.8704 - val_accuracy: 0.7500 - val_top-5-accuracy: 1.0000\n",
            "Epoch 3/100\n",
            "2/2 [==============================] - 2s 1s/step - loss: 1.5188 - accuracy: 0.5633 - top-5-accuracy: 1.0000 - val_loss: 0.7343 - val_accuracy: 0.8056 - val_top-5-accuracy: 1.0000\n",
            "Epoch 4/100\n",
            "2/2 [==============================] - 2s 718ms/step - loss: 0.8513 - accuracy: 0.7025 - top-5-accuracy: 1.0000 - val_loss: 0.9287 - val_accuracy: 0.5278 - val_top-5-accuracy: 1.0000\n",
            "Epoch 5/100\n",
            "2/2 [==============================] - 2s 400ms/step - loss: 0.8487 - accuracy: 0.6867 - top-5-accuracy: 1.0000 - val_loss: 0.6029 - val_accuracy: 0.7222 - val_top-5-accuracy: 1.0000\n",
            "Epoch 6/100\n",
            "2/2 [==============================] - 2s 482ms/step - loss: 0.6796 - accuracy: 0.7468 - top-5-accuracy: 1.0000 - val_loss: 0.4879 - val_accuracy: 0.7778 - val_top-5-accuracy: 1.0000\n",
            "Epoch 7/100\n",
            "2/2 [==============================] - 2s 398ms/step - loss: 0.5473 - accuracy: 0.7532 - top-5-accuracy: 1.0000 - val_loss: 0.6704 - val_accuracy: 0.8056 - val_top-5-accuracy: 1.0000\n",
            "Epoch 8/100\n",
            "2/2 [==============================] - 2s 774ms/step - loss: 0.5626 - accuracy: 0.7848 - top-5-accuracy: 1.0000 - val_loss: 0.6976 - val_accuracy: 0.8333 - val_top-5-accuracy: 1.0000\n",
            "Epoch 9/100\n",
            "2/2 [==============================] - 2s 743ms/step - loss: 0.5512 - accuracy: 0.7880 - top-5-accuracy: 1.0000 - val_loss: 0.6296 - val_accuracy: 0.9167 - val_top-5-accuracy: 1.0000\n",
            "Epoch 10/100\n",
            "2/2 [==============================] - 2s 787ms/step - loss: 0.4711 - accuracy: 0.8323 - top-5-accuracy: 1.0000 - val_loss: 0.4433 - val_accuracy: 0.9444 - val_top-5-accuracy: 1.0000\n",
            "Epoch 11/100\n",
            "2/2 [==============================] - 2s 713ms/step - loss: 0.4927 - accuracy: 0.8165 - top-5-accuracy: 1.0000 - val_loss: 0.3293 - val_accuracy: 0.9444 - val_top-5-accuracy: 1.0000\n",
            "Epoch 12/100\n",
            "2/2 [==============================] - 2s 416ms/step - loss: 0.4063 - accuracy: 0.8481 - top-5-accuracy: 1.0000 - val_loss: 0.3506 - val_accuracy: 0.8889 - val_top-5-accuracy: 1.0000\n",
            "Epoch 13/100\n",
            "2/2 [==============================] - 2s 408ms/step - loss: 0.3807 - accuracy: 0.8544 - top-5-accuracy: 1.0000 - val_loss: 0.2158 - val_accuracy: 0.9444 - val_top-5-accuracy: 1.0000\n",
            "Epoch 14/100\n",
            "2/2 [==============================] - 2s 890ms/step - loss: 0.3299 - accuracy: 0.8544 - top-5-accuracy: 1.0000 - val_loss: 0.1455 - val_accuracy: 0.9722 - val_top-5-accuracy: 1.0000\n",
            "Epoch 15/100\n",
            "2/2 [==============================] - 3s 967ms/step - loss: 0.3413 - accuracy: 0.8766 - top-5-accuracy: 1.0000 - val_loss: 0.1024 - val_accuracy: 0.9722 - val_top-5-accuracy: 1.0000\n",
            "Epoch 16/100\n",
            "2/2 [==============================] - 2s 399ms/step - loss: 0.3431 - accuracy: 0.8449 - top-5-accuracy: 1.0000 - val_loss: 0.1717 - val_accuracy: 0.9722 - val_top-5-accuracy: 1.0000\n",
            "Epoch 17/100\n",
            "2/2 [==============================] - 2s 743ms/step - loss: 0.2733 - accuracy: 0.9114 - top-5-accuracy: 1.0000 - val_loss: 0.3059 - val_accuracy: 0.9167 - val_top-5-accuracy: 1.0000\n",
            "Epoch 18/100\n",
            "2/2 [==============================] - 2s 421ms/step - loss: 0.3436 - accuracy: 0.8703 - top-5-accuracy: 1.0000 - val_loss: 0.2396 - val_accuracy: 0.9444 - val_top-5-accuracy: 1.0000\n",
            "Epoch 19/100\n",
            "2/2 [==============================] - 2s 405ms/step - loss: 0.3157 - accuracy: 0.8924 - top-5-accuracy: 1.0000 - val_loss: 0.1529 - val_accuracy: 0.9444 - val_top-5-accuracy: 1.0000\n",
            "Epoch 20/100\n",
            "2/2 [==============================] - 2s 435ms/step - loss: 0.2778 - accuracy: 0.9114 - top-5-accuracy: 1.0000 - val_loss: 0.1149 - val_accuracy: 0.9444 - val_top-5-accuracy: 1.0000\n",
            "Epoch 21/100\n",
            "2/2 [==============================] - 1s 406ms/step - loss: 0.2575 - accuracy: 0.9114 - top-5-accuracy: 1.0000 - val_loss: 0.1466 - val_accuracy: 0.9167 - val_top-5-accuracy: 1.0000\n",
            "Epoch 22/100\n",
            "2/2 [==============================] - 1s 418ms/step - loss: 0.2471 - accuracy: 0.8956 - top-5-accuracy: 1.0000 - val_loss: 0.1614 - val_accuracy: 0.9167 - val_top-5-accuracy: 1.0000\n",
            "Epoch 23/100\n",
            "2/2 [==============================] - 1s 402ms/step - loss: 0.3009 - accuracy: 0.8829 - top-5-accuracy: 1.0000 - val_loss: 0.1446 - val_accuracy: 0.9444 - val_top-5-accuracy: 1.0000\n",
            "Epoch 24/100\n",
            "2/2 [==============================] - 2s 430ms/step - loss: 0.2448 - accuracy: 0.9209 - top-5-accuracy: 1.0000 - val_loss: 0.1521 - val_accuracy: 0.9722 - val_top-5-accuracy: 1.0000\n",
            "Epoch 25/100\n",
            "2/2 [==============================] - 2s 710ms/step - loss: 0.2205 - accuracy: 0.9051 - top-5-accuracy: 1.0000 - val_loss: 0.1350 - val_accuracy: 0.9722 - val_top-5-accuracy: 1.0000\n",
            "Epoch 26/100\n",
            "2/2 [==============================] - 2s 486ms/step - loss: 0.1801 - accuracy: 0.9304 - top-5-accuracy: 1.0000 - val_loss: 0.1264 - val_accuracy: 0.9722 - val_top-5-accuracy: 1.0000\n",
            "Epoch 27/100\n",
            "2/2 [==============================] - 1s 391ms/step - loss: 0.2398 - accuracy: 0.8924 - top-5-accuracy: 1.0000 - val_loss: 0.1139 - val_accuracy: 0.9722 - val_top-5-accuracy: 1.0000\n",
            "Epoch 28/100\n",
            "2/2 [==============================] - 1s 417ms/step - loss: 0.1751 - accuracy: 0.9367 - top-5-accuracy: 1.0000 - val_loss: 0.1700 - val_accuracy: 0.9444 - val_top-5-accuracy: 1.0000\n",
            "Epoch 29/100\n",
            "2/2 [==============================] - 1s 410ms/step - loss: 0.1935 - accuracy: 0.9241 - top-5-accuracy: 1.0000 - val_loss: 0.1983 - val_accuracy: 0.9444 - val_top-5-accuracy: 1.0000\n",
            "Epoch 30/100\n",
            "2/2 [==============================] - 2s 399ms/step - loss: 0.1605 - accuracy: 0.9525 - top-5-accuracy: 1.0000 - val_loss: 0.1982 - val_accuracy: 0.9722 - val_top-5-accuracy: 1.0000\n",
            "Epoch 31/100\n",
            "2/2 [==============================] - 1s 408ms/step - loss: 0.1264 - accuracy: 0.9494 - top-5-accuracy: 1.0000 - val_loss: 0.2286 - val_accuracy: 0.9722 - val_top-5-accuracy: 1.0000\n",
            "Epoch 32/100\n",
            "2/2 [==============================] - 1s 392ms/step - loss: 0.1853 - accuracy: 0.9209 - top-5-accuracy: 1.0000 - val_loss: 0.2537 - val_accuracy: 0.9722 - val_top-5-accuracy: 1.0000\n",
            "Epoch 33/100\n",
            "2/2 [==============================] - 3s 721ms/step - loss: 0.2094 - accuracy: 0.9177 - top-5-accuracy: 1.0000 - val_loss: 0.2696 - val_accuracy: 0.9722 - val_top-5-accuracy: 1.0000\n",
            "Epoch 34/100\n",
            "2/2 [==============================] - 2s 402ms/step - loss: 0.1861 - accuracy: 0.9241 - top-5-accuracy: 1.0000 - val_loss: 0.2751 - val_accuracy: 0.9444 - val_top-5-accuracy: 1.0000\n",
            "Epoch 35/100\n",
            "2/2 [==============================] - 1s 408ms/step - loss: 0.1453 - accuracy: 0.9399 - top-5-accuracy: 1.0000 - val_loss: 0.2288 - val_accuracy: 0.9722 - val_top-5-accuracy: 1.0000\n",
            "Epoch 36/100\n",
            "2/2 [==============================] - 1s 399ms/step - loss: 0.1810 - accuracy: 0.9177 - top-5-accuracy: 1.0000 - val_loss: 0.1786 - val_accuracy: 0.9722 - val_top-5-accuracy: 1.0000\n",
            "Epoch 37/100\n",
            "2/2 [==============================] - 1s 402ms/step - loss: 0.1435 - accuracy: 0.9525 - top-5-accuracy: 1.0000 - val_loss: 0.1494 - val_accuracy: 0.9722 - val_top-5-accuracy: 1.0000\n",
            "Epoch 38/100\n",
            "2/2 [==============================] - 1s 410ms/step - loss: 0.1347 - accuracy: 0.9525 - top-5-accuracy: 1.0000 - val_loss: 0.1395 - val_accuracy: 0.9444 - val_top-5-accuracy: 1.0000\n",
            "Epoch 39/100\n",
            "2/2 [==============================] - 1s 389ms/step - loss: 0.1562 - accuracy: 0.9494 - top-5-accuracy: 1.0000 - val_loss: 0.1714 - val_accuracy: 0.9444 - val_top-5-accuracy: 1.0000\n",
            "Epoch 40/100\n",
            "2/2 [==============================] - 2s 480ms/step - loss: 0.1101 - accuracy: 0.9589 - top-5-accuracy: 1.0000 - val_loss: 0.1792 - val_accuracy: 0.9444 - val_top-5-accuracy: 1.0000\n",
            "Epoch 41/100\n",
            "2/2 [==============================] - 2s 697ms/step - loss: 0.1360 - accuracy: 0.9557 - top-5-accuracy: 1.0000 - val_loss: 0.1623 - val_accuracy: 0.9444 - val_top-5-accuracy: 1.0000\n",
            "Epoch 42/100\n",
            "2/2 [==============================] - 2s 409ms/step - loss: 0.1031 - accuracy: 0.9715 - top-5-accuracy: 1.0000 - val_loss: 0.1726 - val_accuracy: 0.9444 - val_top-5-accuracy: 1.0000\n",
            "Epoch 43/100\n",
            "2/2 [==============================] - 1s 397ms/step - loss: 0.1063 - accuracy: 0.9557 - top-5-accuracy: 1.0000 - val_loss: 0.1735 - val_accuracy: 0.9444 - val_top-5-accuracy: 1.0000\n",
            "Epoch 44/100\n",
            "2/2 [==============================] - 1s 431ms/step - loss: 0.1419 - accuracy: 0.9462 - top-5-accuracy: 1.0000 - val_loss: 0.1561 - val_accuracy: 0.9444 - val_top-5-accuracy: 1.0000\n",
            "Epoch 45/100\n",
            "2/2 [==============================] - 1s 401ms/step - loss: 0.1075 - accuracy: 0.9620 - top-5-accuracy: 1.0000 - val_loss: 0.1421 - val_accuracy: 0.9722 - val_top-5-accuracy: 1.0000\n",
            "Epoch 46/100\n",
            "2/2 [==============================] - 1s 412ms/step - loss: 0.1110 - accuracy: 0.9589 - top-5-accuracy: 1.0000 - val_loss: 0.1546 - val_accuracy: 0.9722 - val_top-5-accuracy: 1.0000\n",
            "Epoch 47/100\n",
            "2/2 [==============================] - 1s 409ms/step - loss: 0.0931 - accuracy: 0.9715 - top-5-accuracy: 1.0000 - val_loss: 0.1745 - val_accuracy: 0.9722 - val_top-5-accuracy: 1.0000\n",
            "Epoch 48/100\n",
            "2/2 [==============================] - 2s 1s/step - loss: 0.1169 - accuracy: 0.9684 - top-5-accuracy: 1.0000 - val_loss: 0.2862 - val_accuracy: 0.9722 - val_top-5-accuracy: 1.0000\n",
            "Epoch 49/100\n",
            "2/2 [==============================] - 4s 601ms/step - loss: 0.1076 - accuracy: 0.9557 - top-5-accuracy: 1.0000 - val_loss: 0.3648 - val_accuracy: 0.9722 - val_top-5-accuracy: 1.0000\n",
            "Epoch 50/100\n",
            "2/2 [==============================] - 1s 400ms/step - loss: 0.1332 - accuracy: 0.9525 - top-5-accuracy: 1.0000 - val_loss: 0.3726 - val_accuracy: 0.9722 - val_top-5-accuracy: 1.0000\n",
            "Epoch 51/100\n",
            "2/2 [==============================] - 1s 410ms/step - loss: 0.1024 - accuracy: 0.9494 - top-5-accuracy: 1.0000 - val_loss: 0.3660 - val_accuracy: 0.9722 - val_top-5-accuracy: 1.0000\n",
            "Epoch 52/100\n",
            "2/2 [==============================] - 2s 405ms/step - loss: 0.1325 - accuracy: 0.9525 - top-5-accuracy: 1.0000 - val_loss: 0.2510 - val_accuracy: 0.9722 - val_top-5-accuracy: 1.0000\n",
            "Epoch 53/100\n",
            "2/2 [==============================] - 1s 393ms/step - loss: 0.1223 - accuracy: 0.9620 - top-5-accuracy: 1.0000 - val_loss: 0.1343 - val_accuracy: 0.9722 - val_top-5-accuracy: 1.0000\n",
            "Epoch 54/100\n",
            "2/2 [==============================] - 1s 399ms/step - loss: 0.1064 - accuracy: 0.9620 - top-5-accuracy: 1.0000 - val_loss: 0.1058 - val_accuracy: 0.9722 - val_top-5-accuracy: 1.0000\n",
            "Epoch 55/100\n",
            "2/2 [==============================] - 2s 508ms/step - loss: 0.1057 - accuracy: 0.9589 - top-5-accuracy: 1.0000 - val_loss: 0.0595 - val_accuracy: 0.9722 - val_top-5-accuracy: 1.0000\n",
            "Epoch 56/100\n",
            "2/2 [==============================] - 2s 435ms/step - loss: 0.1399 - accuracy: 0.9462 - top-5-accuracy: 1.0000 - val_loss: 0.0530 - val_accuracy: 0.9722 - val_top-5-accuracy: 1.0000\n",
            "Epoch 57/100\n",
            "2/2 [==============================] - 1s 406ms/step - loss: 0.1375 - accuracy: 0.9557 - top-5-accuracy: 1.0000 - val_loss: 0.0555 - val_accuracy: 0.9722 - val_top-5-accuracy: 1.0000\n",
            "Epoch 58/100\n",
            "2/2 [==============================] - 2s 490ms/step - loss: 0.0760 - accuracy: 0.9747 - top-5-accuracy: 1.0000 - val_loss: 0.0769 - val_accuracy: 0.9722 - val_top-5-accuracy: 1.0000\n",
            "Epoch 59/100\n",
            "2/2 [==============================] - 1s 414ms/step - loss: 0.0632 - accuracy: 0.9778 - top-5-accuracy: 1.0000 - val_loss: 0.1085 - val_accuracy: 0.9722 - val_top-5-accuracy: 1.0000\n",
            "Epoch 60/100\n",
            "2/2 [==============================] - 1s 467ms/step - loss: 0.0962 - accuracy: 0.9620 - top-5-accuracy: 1.0000 - val_loss: 0.1280 - val_accuracy: 0.9722 - val_top-5-accuracy: 1.0000\n",
            "Epoch 61/100\n",
            "2/2 [==============================] - 1s 407ms/step - loss: 0.1037 - accuracy: 0.9589 - top-5-accuracy: 1.0000 - val_loss: 0.1360 - val_accuracy: 0.9722 - val_top-5-accuracy: 1.0000\n",
            "Epoch 62/100\n",
            "2/2 [==============================] - 1s 388ms/step - loss: 0.0512 - accuracy: 0.9873 - top-5-accuracy: 1.0000 - val_loss: 0.1586 - val_accuracy: 0.9722 - val_top-5-accuracy: 1.0000\n",
            "Epoch 63/100\n",
            "2/2 [==============================] - 2s 650ms/step - loss: 0.0996 - accuracy: 0.9715 - top-5-accuracy: 1.0000 - val_loss: 0.1780 - val_accuracy: 0.9722 - val_top-5-accuracy: 1.0000\n",
            "Epoch 64/100\n",
            "2/2 [==============================] - 2s 399ms/step - loss: 0.0614 - accuracy: 0.9778 - top-5-accuracy: 1.0000 - val_loss: 0.1717 - val_accuracy: 0.9722 - val_top-5-accuracy: 1.0000\n",
            "Epoch 65/100\n",
            "2/2 [==============================] - 1s 404ms/step - loss: 0.1484 - accuracy: 0.9620 - top-5-accuracy: 1.0000 - val_loss: 0.1695 - val_accuracy: 0.9722 - val_top-5-accuracy: 1.0000\n",
            "Epoch 66/100\n",
            "2/2 [==============================] - 1s 420ms/step - loss: 0.0428 - accuracy: 0.9873 - top-5-accuracy: 1.0000 - val_loss: 0.1778 - val_accuracy: 0.9722 - val_top-5-accuracy: 1.0000\n",
            "Epoch 67/100\n",
            "2/2 [==============================] - 1s 398ms/step - loss: 0.0766 - accuracy: 0.9747 - top-5-accuracy: 1.0000 - val_loss: 0.1587 - val_accuracy: 0.9722 - val_top-5-accuracy: 1.0000\n",
            "Epoch 68/100\n",
            "2/2 [==============================] - 2s 488ms/step - loss: 0.0651 - accuracy: 0.9778 - top-5-accuracy: 1.0000 - val_loss: 0.1084 - val_accuracy: 0.9722 - val_top-5-accuracy: 1.0000\n",
            "Epoch 69/100\n",
            "2/2 [==============================] - 1s 399ms/step - loss: 0.0974 - accuracy: 0.9684 - top-5-accuracy: 1.0000 - val_loss: 0.0908 - val_accuracy: 0.9722 - val_top-5-accuracy: 1.0000\n",
            "Epoch 70/100\n",
            "2/2 [==============================] - 1s 398ms/step - loss: 0.0691 - accuracy: 0.9715 - top-5-accuracy: 1.0000 - val_loss: 0.1068 - val_accuracy: 0.9722 - val_top-5-accuracy: 1.0000\n",
            "Epoch 71/100\n",
            "2/2 [==============================] - 2s 739ms/step - loss: 0.0553 - accuracy: 0.9778 - top-5-accuracy: 1.0000 - val_loss: 0.1435 - val_accuracy: 0.9722 - val_top-5-accuracy: 1.0000\n",
            "Epoch 72/100\n",
            "2/2 [==============================] - 2s 397ms/step - loss: 0.0666 - accuracy: 0.9810 - top-5-accuracy: 1.0000 - val_loss: 0.1680 - val_accuracy: 0.9722 - val_top-5-accuracy: 1.0000\n",
            "Epoch 73/100\n",
            "2/2 [==============================] - 2s 478ms/step - loss: 0.1317 - accuracy: 0.9652 - top-5-accuracy: 1.0000 - val_loss: 0.2195 - val_accuracy: 0.9722 - val_top-5-accuracy: 1.0000\n",
            "Epoch 74/100\n",
            "2/2 [==============================] - 1s 405ms/step - loss: 0.0663 - accuracy: 0.9778 - top-5-accuracy: 1.0000 - val_loss: 0.2432 - val_accuracy: 0.9722 - val_top-5-accuracy: 1.0000\n",
            "Epoch 75/100\n",
            "2/2 [==============================] - 1s 405ms/step - loss: 0.0736 - accuracy: 0.9715 - top-5-accuracy: 1.0000 - val_loss: 0.2325 - val_accuracy: 0.9722 - val_top-5-accuracy: 1.0000\n",
            "Epoch 76/100\n",
            "2/2 [==============================] - 2s 495ms/step - loss: 0.0222 - accuracy: 0.9968 - top-5-accuracy: 1.0000 - val_loss: 0.2004 - val_accuracy: 0.9722 - val_top-5-accuracy: 1.0000\n",
            "Epoch 77/100\n",
            "2/2 [==============================] - 1s 391ms/step - loss: 0.0549 - accuracy: 0.9747 - top-5-accuracy: 1.0000 - val_loss: 0.1908 - val_accuracy: 0.9722 - val_top-5-accuracy: 1.0000\n",
            "Epoch 78/100\n",
            "2/2 [==============================] - 2s 507ms/step - loss: 0.0393 - accuracy: 0.9842 - top-5-accuracy: 1.0000 - val_loss: 0.2233 - val_accuracy: 0.9444 - val_top-5-accuracy: 1.0000\n",
            "Epoch 79/100\n",
            "2/2 [==============================] - 2s 512ms/step - loss: 0.0816 - accuracy: 0.9810 - top-5-accuracy: 1.0000 - val_loss: 0.2963 - val_accuracy: 0.9444 - val_top-5-accuracy: 1.0000\n",
            "Epoch 80/100\n",
            "2/2 [==============================] - 1s 411ms/step - loss: 0.0444 - accuracy: 0.9873 - top-5-accuracy: 1.0000 - val_loss: 0.3738 - val_accuracy: 0.9444 - val_top-5-accuracy: 1.0000\n",
            "Epoch 81/100\n",
            "2/2 [==============================] - 1s 421ms/step - loss: 0.0932 - accuracy: 0.9652 - top-5-accuracy: 1.0000 - val_loss: 0.3699 - val_accuracy: 0.9444 - val_top-5-accuracy: 1.0000\n",
            "Epoch 82/100\n",
            "2/2 [==============================] - 1s 398ms/step - loss: 0.0516 - accuracy: 0.9810 - top-5-accuracy: 1.0000 - val_loss: 0.3436 - val_accuracy: 0.9444 - val_top-5-accuracy: 1.0000\n",
            "Epoch 83/100\n",
            "2/2 [==============================] - 1s 406ms/step - loss: 0.0440 - accuracy: 0.9873 - top-5-accuracy: 1.0000 - val_loss: 0.3081 - val_accuracy: 0.9722 - val_top-5-accuracy: 1.0000\n",
            "Epoch 84/100\n",
            "2/2 [==============================] - 1s 409ms/step - loss: 0.1110 - accuracy: 0.9620 - top-5-accuracy: 1.0000 - val_loss: 0.1640 - val_accuracy: 0.9722 - val_top-5-accuracy: 1.0000\n",
            "Epoch 85/100\n",
            "2/2 [==============================] - 1s 389ms/step - loss: 0.0766 - accuracy: 0.9747 - top-5-accuracy: 1.0000 - val_loss: 0.1193 - val_accuracy: 0.9722 - val_top-5-accuracy: 1.0000\n",
            "Epoch 86/100\n",
            "2/2 [==============================] - 2s 727ms/step - loss: 0.0753 - accuracy: 0.9778 - top-5-accuracy: 1.0000 - val_loss: 0.1110 - val_accuracy: 0.9722 - val_top-5-accuracy: 1.0000\n",
            "Epoch 87/100\n",
            "2/2 [==============================] - 2s 409ms/step - loss: 0.0895 - accuracy: 0.9684 - top-5-accuracy: 1.0000 - val_loss: 0.1486 - val_accuracy: 0.9722 - val_top-5-accuracy: 1.0000\n",
            "Epoch 88/100\n",
            "2/2 [==============================] - 1s 406ms/step - loss: 0.0681 - accuracy: 0.9747 - top-5-accuracy: 1.0000 - val_loss: 0.1255 - val_accuracy: 0.9722 - val_top-5-accuracy: 1.0000\n",
            "Epoch 89/100\n",
            "2/2 [==============================] - 2s 654ms/step - loss: 0.1138 - accuracy: 0.9715 - top-5-accuracy: 1.0000 - val_loss: 0.0283 - val_accuracy: 0.9722 - val_top-5-accuracy: 1.0000\n",
            "Epoch 90/100\n",
            "2/2 [==============================] - 3s 835ms/step - loss: 0.0971 - accuracy: 0.9684 - top-5-accuracy: 1.0000 - val_loss: 0.0326 - val_accuracy: 1.0000 - val_top-5-accuracy: 1.0000\n",
            "Epoch 91/100\n",
            "2/2 [==============================] - 1s 395ms/step - loss: 0.0941 - accuracy: 0.9620 - top-5-accuracy: 1.0000 - val_loss: 0.0713 - val_accuracy: 0.9444 - val_top-5-accuracy: 1.0000\n",
            "Epoch 92/100\n",
            "2/2 [==============================] - 2s 486ms/step - loss: 0.0982 - accuracy: 0.9778 - top-5-accuracy: 1.0000 - val_loss: 0.1548 - val_accuracy: 0.9444 - val_top-5-accuracy: 1.0000\n",
            "Epoch 93/100\n",
            "2/2 [==============================] - 2s 708ms/step - loss: 0.0957 - accuracy: 0.9684 - top-5-accuracy: 1.0000 - val_loss: 0.1798 - val_accuracy: 0.9722 - val_top-5-accuracy: 1.0000\n",
            "Epoch 94/100\n",
            "2/2 [==============================] - 2s 397ms/step - loss: 0.0752 - accuracy: 0.9747 - top-5-accuracy: 1.0000 - val_loss: 0.1714 - val_accuracy: 0.9722 - val_top-5-accuracy: 1.0000\n",
            "Epoch 95/100\n",
            "2/2 [==============================] - 1s 421ms/step - loss: 0.0899 - accuracy: 0.9620 - top-5-accuracy: 1.0000 - val_loss: 0.1084 - val_accuracy: 0.9722 - val_top-5-accuracy: 1.0000\n",
            "Epoch 96/100\n",
            "2/2 [==============================] - 1s 395ms/step - loss: 0.0972 - accuracy: 0.9684 - top-5-accuracy: 1.0000 - val_loss: 0.0790 - val_accuracy: 0.9722 - val_top-5-accuracy: 1.0000\n",
            "Epoch 97/100\n",
            "2/2 [==============================] - 1s 398ms/step - loss: 0.0868 - accuracy: 0.9620 - top-5-accuracy: 1.0000 - val_loss: 0.0731 - val_accuracy: 0.9722 - val_top-5-accuracy: 1.0000\n",
            "Epoch 98/100\n",
            "2/2 [==============================] - 2s 486ms/step - loss: 0.0811 - accuracy: 0.9715 - top-5-accuracy: 1.0000 - val_loss: 0.0720 - val_accuracy: 0.9722 - val_top-5-accuracy: 1.0000\n",
            "Epoch 99/100\n",
            "2/2 [==============================] - 1s 428ms/step - loss: 0.0955 - accuracy: 0.9620 - top-5-accuracy: 1.0000 - val_loss: 0.1489 - val_accuracy: 0.9722 - val_top-5-accuracy: 1.0000\n",
            "Epoch 100/100\n",
            "2/2 [==============================] - 1s 415ms/step - loss: 0.0613 - accuracy: 0.9747 - top-5-accuracy: 1.0000 - val_loss: 0.2137 - val_accuracy: 0.9722 - val_top-5-accuracy: 1.0000\n",
            "2/2 [==============================] - 0s 42ms/step - loss: 0.1423 - accuracy: 0.9744 - top-5-accuracy: 1.0000\n",
            "Test accuracy: 97.44%\n",
            "Test top 5 accuracy: 100.0%\n"
          ]
        }
      ]
    },
    {
      "cell_type": "code",
      "metadata": {
        "id": "cll8DYiKdUTi"
      },
      "source": [],
      "execution_count": null,
      "outputs": []
    }
  ]
}