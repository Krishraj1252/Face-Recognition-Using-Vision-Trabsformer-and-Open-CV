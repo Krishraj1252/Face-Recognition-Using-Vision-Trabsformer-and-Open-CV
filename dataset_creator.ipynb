{
 "cells": [
  {
   "cell_type": "code",
   "execution_count": 13,
   "metadata": {},
   "outputs": [],
   "source": [
    "import cv2\n",
    "import numpy as np\n",
    "import sqlite3"
   ]
  },
  {
   "cell_type": "code",
   "execution_count": 18,
   "metadata": {},
   "outputs": [
    {
     "name": "stdout",
     "output_type": "stream",
     "text": [
      "enter the user id4\n",
      "enter your name\"hrithik\"\n"
     ]
    }
   ],
   "source": [
    "faceDetect=cv2.CascadeClassifier(\"D:/python3.6/IMAGE_PROCESSING/haarcascades/haarcascade_frontalface_default.xml\")\n",
    "\n",
    "cam=cv2.VideoCapture(0)\n",
    "\n",
    "def insertOrUpdate(Id,Name):\n",
    "    conn=sqlite3.connect(\"FaceBase.db\")\n",
    "    cmd=\"SELECT ID,Name FROM PEOPLE WHERE ID=\"+str(Id)\n",
    "    cursor=conn.execute(cmd)\n",
    "    isRecordExist=0\n",
    "    for row in cursor:\n",
    "        isRecordExist=1\n",
    "    if(isRecordExist==1):\n",
    "        cmd=\"UPDATE People SET Name=\"+str(Name) + \" WHERE ID=\"+str(Id)\n",
    "    else:\n",
    "        cmd=\"INSERT INTO People(ID,Name) Values(\"+str(Id)+\",\"+str(Name)+\")\"\n",
    "    conn.execute(cmd)\n",
    "    conn.commit()\n",
    "    conn.close()    \n",
    "\n",
    "Id = input(\"enter the user id\")\n",
    "name=input(\"enter your name\")\n",
    "# Age = input(\"enter your Age\")\n",
    "# Gender = input(\"enter you Gender\")\n",
    "# cc = input(\"Have any criminal case\")\n",
    "insertOrUpdate(Id,name)\n",
    "\n",
    "sampleNumber=0\n",
    "while (True):\n",
    "    ret,img = cam.read()\n",
    "    gray=cv2.cvtColor(img,cv2.COLOR_BGR2GRAY)\n",
    "    faces=faceDetect.detectMultiScale(gray,1.3,5)\n",
    "    for (x,y,w,h) in faces:\n",
    "        sampleNumber=sampleNumber+1\n",
    "        cv2.imwrite(\"DataSet/User.\"+str(Id)+\".\"+str(sampleNumber)+\".jpg\",gray[y:y+h,x:x+w])\n",
    "        cv2.rectangle(img,(x,y),(x+w,y+h),(0,0,255),2)\n",
    "        cv2.waitKey(100)\n",
    "    \n",
    "    \n",
    "    \n",
    "    cv2.imshow(\"Face\",img)\n",
    "    cv2.waitKey(1)\n",
    "    if(sampleNumber>100):\n",
    "        break\n",
    "#     cv2.waitKey(1)==ord('q'):\n",
    "#         break\n",
    "cam.release()\n",
    "cv2.destroyAllWindows()\n",
    "\n",
    "        "
   ]
  },
  {
   "cell_type": "code",
   "execution_count": null,
   "metadata": {},
   "outputs": [],
   "source": []
  }
 ],
 "metadata": {
  "kernelspec": {
   "display_name": "Python 3",
   "language": "python",
   "name": "python3"
  },
  "language_info": {
   "codemirror_mode": {
    "name": "ipython",
    "version": 3
   },
   "file_extension": ".py",
   "mimetype": "text/x-python",
   "name": "python",
   "nbconvert_exporter": "python",
   "pygments_lexer": "ipython3",
   "version": "3.6.7"
  }
 },
 "nbformat": 4,
 "nbformat_minor": 4
}
