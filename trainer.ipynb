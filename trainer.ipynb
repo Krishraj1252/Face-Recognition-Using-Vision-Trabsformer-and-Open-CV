{
 "cells": [
  {
   "cell_type": "code",
   "execution_count": 8,
   "metadata": {},
   "outputs": [],
   "source": [
    "import os \n",
    "import numpy as np\n",
    "import cv2\n",
    "from PIL import Image\n",
    "\n",
    "recognizer = cv2.face.LBPHFaceRecognizer_create()\n",
    "path=\"DataSet\"\n",
    "\n",
    "def getImageWithId(path):\n",
    "    imagePaths=[os.path.join(path,f) for f in os.listdir(path)]\n",
    "    faces=[]\n",
    "    IDs=[]\n",
    "    for imagepath in imagePaths:\n",
    "        faceImg=Image.open(imagepath).convert('L')\n",
    "        faceNp=np.asarray(faceImg,dtype= np.uint8)\n",
    "        ID=int(os.path.split(imagepath)[-1].split('.')[1])\n",
    "        faces.append(faceNp)\n",
    "        IDs.append(ID)\n",
    "        cv2.imshow(\"train\",faceNp)\n",
    "        cv2.waitKey(10)\n",
    "    return IDs,faces\n",
    "\n",
    "Ids,faces=getImageWithId(path)\n",
    "recognizer.train(faces,np.asarray(Ids))\n",
    "recognizer.save('recognizer/TrainingData.yml')\n",
    "cv2.destroyAllWindows()\n",
    "        \n",
    "        \n"
   ]
  },
  {
   "cell_type": "code",
   "execution_count": null,
   "metadata": {},
   "outputs": [],
   "source": []
  }
 ],
 "metadata": {
  "kernelspec": {
   "display_name": "Python 3",
   "language": "python",
   "name": "python3"
  },
  "language_info": {
   "codemirror_mode": {
    "name": "ipython",
    "version": 3
   },
   "file_extension": ".py",
   "mimetype": "text/x-python",
   "name": "python",
   "nbconvert_exporter": "python",
   "pygments_lexer": "ipython3",
   "version": "3.6.7"
  }
 },
 "nbformat": 4,
 "nbformat_minor": 4
}
